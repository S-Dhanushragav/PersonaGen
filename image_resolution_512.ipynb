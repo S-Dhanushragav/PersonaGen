{
 "cells": [
  {
   "cell_type": "code",
   "execution_count": null,
   "id": "29f34cc3",
   "metadata": {},
   "outputs": [],
   "source": [
    "from PIL import Image\n",
    "import os\n",
    "\n",
    "input_folder = \"face5\"\n",
    "output_folder = \"my_person_512\"\n",
    "\n",
    "os.makedirs(output_folder, exist_ok=True)\n",
    "\n",
    "for filename in os.listdir(input_folder):\n",
    "    if filename.lower().endswith((\".jpg\", \".png\", \".jpeg\")):\n",
    "        img_path = os.path.join(input_folder, filename)\n",
    "        img = Image.open(img_path).convert(\"RGB\")\n",
    "\n",
    "        # Center crop to square\n",
    "        w, h = img.size\n",
    "        min_dim = min(w, h)\n",
    "        left = (w - min_dim) // 2\n",
    "        top = (h - min_dim) // 2\n",
    "        right = (w + min_dim) // 2\n",
    "        bottom = (h + min_dim) // 2\n",
    "        img = img.crop((left, top, right, bottom))\n",
    "\n",
    "        # Resize to 512x512\n",
    "        img = img.resize((512, 512), Image.LANCZOS)\n",
    "\n",
    "        # Save\n",
    "        img.save(os.path.join(output_folder, filename))\n",
    "\n",
    "print(\"✅ All images resized to 512x512.\")\n"
   ]
  },
  {
   "cell_type": "code",
   "execution_count": null,
   "id": "c845a9e0",
   "metadata": {},
   "outputs": [],
   "source": []
  }
 ],
 "metadata": {
  "language_info": {
   "name": "python"
  }
 },
 "nbformat": 4,
 "nbformat_minor": 5
}
